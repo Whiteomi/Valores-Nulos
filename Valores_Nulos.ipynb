{
  "nbformat": 4,
  "nbformat_minor": 0,
  "metadata": {
    "colab": {
      "provenance": [],
      "authorship_tag": "ABX9TyOBc6TUrvUVrbB/YIRD6lH5",
      "include_colab_link": true
    },
    "kernelspec": {
      "name": "python3",
      "display_name": "Python 3"
    },
    "language_info": {
      "name": "python"
    }
  },
  "cells": [
    {
      "cell_type": "markdown",
      "metadata": {
        "id": "view-in-github",
        "colab_type": "text"
      },
      "source": [
        "<a href=\"https://colab.research.google.com/github/Whiteomi/Valores-Nulos/blob/main/Valores_Nulos.ipynb\" target=\"_parent\"><img src=\"https://colab.research.google.com/assets/colab-badge.svg\" alt=\"Open In Colab\"/></a>"
      ]
    },
    {
      "cell_type": "code",
      "execution_count": 1,
      "metadata": {
        "id": "felyn9xBuC9o"
      },
      "outputs": [],
      "source": [
        "#Importamos librerias requeridas\n",
        "import pandas as pd \n",
        "import numpy as np \n",
        "import matplotlib.pyplot as  plt"
      ]
    },
    {
      "cell_type": "code",
      "source": [
        "#Cargar archivo csv desde seaborn\n",
        "from google.colab import files \n",
        "files.upload()"
      ],
      "metadata": {
        "id": "-qWigaIAu9I-"
      },
      "execution_count": null,
      "outputs": []
    },
    {
      "cell_type": "code",
      "source": [
        "#Carga desde un archivo .csv sin indice \n",
        "data = pd.read_csv('Ventas_totales.csv')\n",
        "data.head(5)"
      ],
      "metadata": {
        "id": "0s0vS7BhvkVv"
      },
      "execution_count": null,
      "outputs": []
    },
    {
      "cell_type": "code",
      "source": [
        "#Identificar valores nulos por columna \n",
        "valores_nulos=data.isnull().sum()\n",
        "valores_nulos"
      ],
      "metadata": {
        "id": "_V3n-o-ov-kW",
        "outputId": "0e21b86a-e7f8-406b-8b7f-194b93261d88",
        "colab": {
          "base_uri": "https://localhost:8080/"
        }
      },
      "execution_count": 43,
      "outputs": [
        {
          "output_type": "execute_result",
          "data": {
            "text/plain": [
              "indice_tiempo                           0\n",
              "ventas_precios_corrientes               0\n",
              "ventas_precios_constantes               0\n",
              "ventas_totales_canal_venta              0\n",
              "salon_ventas                            6\n",
              "canales_on_line                         0\n",
              "ventas_totales_medio_pago               0\n",
              "efectivo                                0\n",
              "tarjetas_debito                         1\n",
              "tarjetas_credito                        7\n",
              "otros_medios                            1\n",
              "ventas_totales_grupo_articulos          0\n",
              "subtotal_ventas_alimentos_bebidas      10\n",
              "bebidas                                 1\n",
              "almacen                                 2\n",
              "panaderia                               1\n",
              "lacteos                                 1\n",
              "carnes                                  1\n",
              "verduleria_fruteria                     1\n",
              "alimentos_preparados_rotiseria          1\n",
              "articulos_limpieza_perfumeria           0\n",
              "indumentaria_calzado_textiles_hogar     2\n",
              "electronicos_articulos_hogar            3\n",
              "otros                                   4\n",
              "dtype: int64"
            ]
          },
          "metadata": {},
          "execution_count": 43
        }
      ]
    },
    {
      "cell_type": "markdown",
      "source": [
        "Metodos de sustitución de valores nulos "
      ],
      "metadata": {
        "id": "VentY-V6G-uY"
      }
    },
    {
      "cell_type": "code",
      "source": [
        "#Realizamos una copia del dataframe \n",
        "data2=data.copy()"
      ],
      "metadata": {
        "id": "wS6K_S4KHADh"
      },
      "execution_count": 6,
      "outputs": []
    },
    {
      "cell_type": "markdown",
      "source": [
        "Como primer método ocupe el de sustitución de valores nulos con promedio o media, en la variable de salon_ventas, ya que esta contaba con 6 valores nulos. "
      ],
      "metadata": {
        "id": "JkYRwg0EYOIY"
      }
    },
    {
      "cell_type": "code",
      "source": [
        "#Primer metodo de sustitucion de valores nulos \n",
        "#Sustituir valores nulos con promedio o media \n",
        "data2[\"salon_ventas\"]=data2[\"salon_ventas\"].fillna(round(data2[\"salon_ventas\"].mean(),1))\n"
      ],
      "metadata": {
        "id": "bqIzS-LMHVlt"
      },
      "execution_count": 7,
      "outputs": []
    },
    {
      "cell_type": "code",
      "source": [
        "#Corroboramos valores nulos \n",
        "valores_nulos=data2.isnull().sum()\n",
        "valores_nulos"
      ],
      "metadata": {
        "colab": {
          "base_uri": "https://localhost:8080/"
        },
        "id": "5uMW5Bj8H1sL",
        "outputId": "3407158d-bfe7-4986-e0a1-f8022123c88e"
      },
      "execution_count": 8,
      "outputs": [
        {
          "output_type": "execute_result",
          "data": {
            "text/plain": [
              "indice_tiempo                           0\n",
              "ventas_precios_corrientes               0\n",
              "ventas_precios_constantes               0\n",
              "ventas_totales_canal_venta              0\n",
              "salon_ventas                            0\n",
              "canales_on_line                         0\n",
              "ventas_totales_medio_pago               0\n",
              "efectivo                                0\n",
              "tarjetas_debito                         1\n",
              "tarjetas_credito                        7\n",
              "otros_medios                            1\n",
              "ventas_totales_grupo_articulos          0\n",
              "subtotal_ventas_alimentos_bebidas      10\n",
              "bebidas                                 1\n",
              "almacen                                 2\n",
              "panaderia                               1\n",
              "lacteos                                 1\n",
              "carnes                                  1\n",
              "verduleria_fruteria                     1\n",
              "alimentos_preparados_rotiseria          1\n",
              "articulos_limpieza_perfumeria           0\n",
              "indumentaria_calzado_textiles_hogar     2\n",
              "electronicos_articulos_hogar            3\n",
              "otros                                   4\n",
              "dtype: int64"
            ]
          },
          "metadata": {},
          "execution_count": 8
        }
      ]
    },
    {
      "cell_type": "markdown",
      "source": [
        "Como segundo método ocupe el de sustitución de valores nulos con mediana en la variable de tarjetas_debito, ya que esta contaba con 1 valor nulo."
      ],
      "metadata": {
        "id": "bsga2BYNY6WQ"
      }
    },
    {
      "cell_type": "code",
      "source": [
        "#Segundo metodo de sustitucion de valores nulos \n",
        "#Sustituir valores nulos con mediana\n",
        "data2[\"tarjetas_debito\"]=data2[\"tarjetas_debito\"].fillna(round(data2[\"tarjetas_debito\"].median(),1))"
      ],
      "metadata": {
        "id": "MuuuNplsI8jU"
      },
      "execution_count": 9,
      "outputs": []
    },
    {
      "cell_type": "code",
      "source": [
        "#Corroboramos valores nulos \n",
        "valores_nulos=data2.isnull().sum()\n",
        "valores_nulos"
      ],
      "metadata": {
        "colab": {
          "base_uri": "https://localhost:8080/"
        },
        "id": "sO16I96zJcLG",
        "outputId": "63d918a7-9475-43a6-f455-a1898e41aa65"
      },
      "execution_count": 10,
      "outputs": [
        {
          "output_type": "execute_result",
          "data": {
            "text/plain": [
              "indice_tiempo                           0\n",
              "ventas_precios_corrientes               0\n",
              "ventas_precios_constantes               0\n",
              "ventas_totales_canal_venta              0\n",
              "salon_ventas                            0\n",
              "canales_on_line                         0\n",
              "ventas_totales_medio_pago               0\n",
              "efectivo                                0\n",
              "tarjetas_debito                         0\n",
              "tarjetas_credito                        7\n",
              "otros_medios                            1\n",
              "ventas_totales_grupo_articulos          0\n",
              "subtotal_ventas_alimentos_bebidas      10\n",
              "bebidas                                 1\n",
              "almacen                                 2\n",
              "panaderia                               1\n",
              "lacteos                                 1\n",
              "carnes                                  1\n",
              "verduleria_fruteria                     1\n",
              "alimentos_preparados_rotiseria          1\n",
              "articulos_limpieza_perfumeria           0\n",
              "indumentaria_calzado_textiles_hogar     2\n",
              "electronicos_articulos_hogar            3\n",
              "otros                                   4\n",
              "dtype: int64"
            ]
          },
          "metadata": {},
          "execution_count": 10
        }
      ]
    },
    {
      "cell_type": "markdown",
      "source": [
        "Como tercer método ocupe el de sustitución de valores nulos por un valor numerico en concreto, en la variable de tarjetas_credito, ya que esta contaba con 7 valores nulos."
      ],
      "metadata": {
        "id": "Xu6AMxxSZldn"
      }
    },
    {
      "cell_type": "code",
      "source": [
        "#Tercer metodo de sustitucion de valores nulos \n",
        "#Sustituir valores nulos por un valor numerico con concreto \n",
        "data2[\"tarjetas_credito\"]= data2[\"tarjetas_credito\"].fillna(10)"
      ],
      "metadata": {
        "id": "6BEm39NbJ1Z2"
      },
      "execution_count": 11,
      "outputs": []
    },
    {
      "cell_type": "code",
      "source": [
        "#Corroboramos valores nulos \n",
        "valores_nulos=data2.isnull().sum()\n",
        "valores_nulos"
      ],
      "metadata": {
        "colab": {
          "base_uri": "https://localhost:8080/"
        },
        "id": "xgxZqrlFKCS2",
        "outputId": "5d5f0a3a-df12-4365-f137-0bc698d39020"
      },
      "execution_count": 12,
      "outputs": [
        {
          "output_type": "execute_result",
          "data": {
            "text/plain": [
              "indice_tiempo                           0\n",
              "ventas_precios_corrientes               0\n",
              "ventas_precios_constantes               0\n",
              "ventas_totales_canal_venta              0\n",
              "salon_ventas                            0\n",
              "canales_on_line                         0\n",
              "ventas_totales_medio_pago               0\n",
              "efectivo                                0\n",
              "tarjetas_debito                         0\n",
              "tarjetas_credito                        0\n",
              "otros_medios                            1\n",
              "ventas_totales_grupo_articulos          0\n",
              "subtotal_ventas_alimentos_bebidas      10\n",
              "bebidas                                 1\n",
              "almacen                                 2\n",
              "panaderia                               1\n",
              "lacteos                                 1\n",
              "carnes                                  1\n",
              "verduleria_fruteria                     1\n",
              "alimentos_preparados_rotiseria          1\n",
              "articulos_limpieza_perfumeria           0\n",
              "indumentaria_calzado_textiles_hogar     2\n",
              "electronicos_articulos_hogar            3\n",
              "otros                                   4\n",
              "dtype: int64"
            ]
          },
          "metadata": {},
          "execution_count": 12
        }
      ]
    },
    {
      "cell_type": "markdown",
      "source": [
        "Como quinto método ocupe el de sustitución de valores nulos por valores no nulos hacía adelante, en la variable de otros_medios, ya que esta contaba con 1 valor nulo."
      ],
      "metadata": {
        "id": "yixppfdXaDqQ"
      }
    },
    {
      "cell_type": "code",
      "source": [
        "#Quinto metodo de sustitucion de valores nulos \n",
        "#Sustituir valores nulos por valores no nulos hacia adelante \"forward fill\" (\"ffill\")\n",
        "#Filtro por columnas \n",
        "data2[\"otros_medios\"]=data2[\"otros_medios\"].fillna(method=\"ffill\")"
      ],
      "metadata": {
        "id": "-bZYWAhlKMAT"
      },
      "execution_count": 13,
      "outputs": []
    },
    {
      "cell_type": "code",
      "source": [
        "#Corroboramos valores nulos \n",
        "valores_nulos=data2.isnull().sum()\n",
        "valores_nulos"
      ],
      "metadata": {
        "colab": {
          "base_uri": "https://localhost:8080/"
        },
        "id": "nIsaPbYhKjUQ",
        "outputId": "8fc03c56-41d6-4cef-8119-da8962bbf20a"
      },
      "execution_count": 14,
      "outputs": [
        {
          "output_type": "execute_result",
          "data": {
            "text/plain": [
              "indice_tiempo                           0\n",
              "ventas_precios_corrientes               0\n",
              "ventas_precios_constantes               0\n",
              "ventas_totales_canal_venta              0\n",
              "salon_ventas                            0\n",
              "canales_on_line                         0\n",
              "ventas_totales_medio_pago               0\n",
              "efectivo                                0\n",
              "tarjetas_debito                         0\n",
              "tarjetas_credito                        0\n",
              "otros_medios                            0\n",
              "ventas_totales_grupo_articulos          0\n",
              "subtotal_ventas_alimentos_bebidas      10\n",
              "bebidas                                 1\n",
              "almacen                                 2\n",
              "panaderia                               1\n",
              "lacteos                                 1\n",
              "carnes                                  1\n",
              "verduleria_fruteria                     1\n",
              "alimentos_preparados_rotiseria          1\n",
              "articulos_limpieza_perfumeria           0\n",
              "indumentaria_calzado_textiles_hogar     2\n",
              "electronicos_articulos_hogar            3\n",
              "otros                                   4\n",
              "dtype: int64"
            ]
          },
          "metadata": {},
          "execution_count": 14
        }
      ]
    },
    {
      "cell_type": "markdown",
      "source": [
        "Como sexto método ocupe el de sustitución de valores nulos por valores no nulos hacía atras, en la variable de subtotal_ventas_alimentos_bebidas, ya que esta contaba con 10 valores nulos."
      ],
      "metadata": {
        "id": "keuzeBMPaYQY"
      }
    },
    {
      "cell_type": "code",
      "source": [
        "#Sexto metodo de sustitucion de valores nulos \n",
        "#Sustituir valores nulos por valores no nulos hacia atras \"backward fill\" (\"bfill\")\n",
        "#Filtro por columnas \n",
        "data2[\"subtotal_ventas_alimentos_bebidas\"]=data2[\"subtotal_ventas_alimentos_bebidas\"].fillna(method=\"bfill\")"
      ],
      "metadata": {
        "id": "cGvTeUTXKscU"
      },
      "execution_count": 15,
      "outputs": []
    },
    {
      "cell_type": "code",
      "source": [
        "#Corroboramos valores nulos \n",
        "valores_nulos=data2.isnull().sum()\n",
        "valores_nulos"
      ],
      "metadata": {
        "colab": {
          "base_uri": "https://localhost:8080/"
        },
        "id": "SnOZk8cSK49A",
        "outputId": "56546dae-9849-44d1-fc67-950a470ccaef"
      },
      "execution_count": 16,
      "outputs": [
        {
          "output_type": "execute_result",
          "data": {
            "text/plain": [
              "indice_tiempo                          0\n",
              "ventas_precios_corrientes              0\n",
              "ventas_precios_constantes              0\n",
              "ventas_totales_canal_venta             0\n",
              "salon_ventas                           0\n",
              "canales_on_line                        0\n",
              "ventas_totales_medio_pago              0\n",
              "efectivo                               0\n",
              "tarjetas_debito                        0\n",
              "tarjetas_credito                       0\n",
              "otros_medios                           0\n",
              "ventas_totales_grupo_articulos         0\n",
              "subtotal_ventas_alimentos_bebidas      0\n",
              "bebidas                                1\n",
              "almacen                                2\n",
              "panaderia                              1\n",
              "lacteos                                1\n",
              "carnes                                 1\n",
              "verduleria_fruteria                    1\n",
              "alimentos_preparados_rotiseria         1\n",
              "articulos_limpieza_perfumeria          0\n",
              "indumentaria_calzado_textiles_hogar    2\n",
              "electronicos_articulos_hogar           3\n",
              "otros                                  4\n",
              "dtype: int64"
            ]
          },
          "metadata": {},
          "execution_count": 16
        }
      ]
    },
    {
      "cell_type": "markdown",
      "source": [
        "Como siguiente método ocupe el de sustitución de valores nulos por valores no nulos hacía atras, en la variable de bebidas, ya que esta contaba con 1 valor nulo."
      ],
      "metadata": {
        "id": "-2HFmxjMaxKN"
      }
    },
    {
      "cell_type": "code",
      "source": [
        "#Sustituir valores nulos por valores no nulos hacia atras \"backward fill\" (\"bfill\")\n",
        "#Filtro por columnas\n",
        "data2[\"bebidas\"]=data2[\"bebidas\"].fillna(method=\"bfill\")"
      ],
      "metadata": {
        "id": "MnqMykVZWYoI"
      },
      "execution_count": 17,
      "outputs": []
    },
    {
      "cell_type": "code",
      "source": [
        "#Corroboramos valores nulos \n",
        "valores_nulos=data2.isnull().sum()\n",
        "valores_nulos"
      ],
      "metadata": {
        "colab": {
          "base_uri": "https://localhost:8080/"
        },
        "id": "DJn4CNwgWrN5",
        "outputId": "63d8bdb4-9a56-4776-a0df-4820346ce016"
      },
      "execution_count": 18,
      "outputs": [
        {
          "output_type": "execute_result",
          "data": {
            "text/plain": [
              "indice_tiempo                          0\n",
              "ventas_precios_corrientes              0\n",
              "ventas_precios_constantes              0\n",
              "ventas_totales_canal_venta             0\n",
              "salon_ventas                           0\n",
              "canales_on_line                        0\n",
              "ventas_totales_medio_pago              0\n",
              "efectivo                               0\n",
              "tarjetas_debito                        0\n",
              "tarjetas_credito                       0\n",
              "otros_medios                           0\n",
              "ventas_totales_grupo_articulos         0\n",
              "subtotal_ventas_alimentos_bebidas      0\n",
              "bebidas                                0\n",
              "almacen                                2\n",
              "panaderia                              1\n",
              "lacteos                                1\n",
              "carnes                                 1\n",
              "verduleria_fruteria                    1\n",
              "alimentos_preparados_rotiseria         1\n",
              "articulos_limpieza_perfumeria          0\n",
              "indumentaria_calzado_textiles_hogar    2\n",
              "electronicos_articulos_hogar           3\n",
              "otros                                  4\n",
              "dtype: int64"
            ]
          },
          "metadata": {},
          "execution_count": 18
        }
      ]
    },
    {
      "cell_type": "markdown",
      "source": [
        "Como siguiente método ocupe el de sustitución de valores nulos por valores no nulos hacía adelante, en la variable de almacen, ya que esta contaba con 2 valores nulos."
      ],
      "metadata": {
        "id": "UwVUWd7Ba-oi"
      }
    },
    {
      "cell_type": "code",
      "source": [
        "#Sustituir valores nulos por valores no nulos hacia adelante \"forward fill\" (\"ffill\")\n",
        "#Filtro por columnas \n",
        "data2[\"almacen\"]=data2[\"almacen\"].fillna(method=\"ffill\")"
      ],
      "metadata": {
        "id": "OEPRoDWDXm-t"
      },
      "execution_count": 19,
      "outputs": []
    },
    {
      "cell_type": "code",
      "source": [
        "#Corroboramos valores nulos \n",
        "valores_nulos=data2.isnull().sum()\n",
        "valores_nulos"
      ],
      "metadata": {
        "colab": {
          "base_uri": "https://localhost:8080/"
        },
        "id": "H09EjZIeX2EH",
        "outputId": "bad73736-7881-401c-d3ec-d0784aed1ba8"
      },
      "execution_count": 20,
      "outputs": [
        {
          "output_type": "execute_result",
          "data": {
            "text/plain": [
              "indice_tiempo                          0\n",
              "ventas_precios_corrientes              0\n",
              "ventas_precios_constantes              0\n",
              "ventas_totales_canal_venta             0\n",
              "salon_ventas                           0\n",
              "canales_on_line                        0\n",
              "ventas_totales_medio_pago              0\n",
              "efectivo                               0\n",
              "tarjetas_debito                        0\n",
              "tarjetas_credito                       0\n",
              "otros_medios                           0\n",
              "ventas_totales_grupo_articulos         0\n",
              "subtotal_ventas_alimentos_bebidas      0\n",
              "bebidas                                0\n",
              "almacen                                0\n",
              "panaderia                              1\n",
              "lacteos                                1\n",
              "carnes                                 1\n",
              "verduleria_fruteria                    1\n",
              "alimentos_preparados_rotiseria         1\n",
              "articulos_limpieza_perfumeria          0\n",
              "indumentaria_calzado_textiles_hogar    2\n",
              "electronicos_articulos_hogar           3\n",
              "otros                                  4\n",
              "dtype: int64"
            ]
          },
          "metadata": {},
          "execution_count": 20
        }
      ]
    },
    {
      "cell_type": "markdown",
      "source": [
        "Desde este apartado, se repiten los metodos hasta eliminar completamente los valores nulos, y así dejar en csv sin valores nulos. "
      ],
      "metadata": {
        "id": "QeHww5mtbMEH"
      }
    },
    {
      "cell_type": "code",
      "source": [
        "#Primer metodo de sustitucion de valores nulos \n",
        "#Sustituir valores nulos con promedio o media \n",
        "data2[\"panaderia\"]=data2[\"panaderia\"].fillna(round(data2[\"panaderia\"].mean(),1))"
      ],
      "metadata": {
        "id": "BIdwLgGWYTh8"
      },
      "execution_count": 21,
      "outputs": []
    },
    {
      "cell_type": "code",
      "source": [
        "#Corroboramos valores nulos \n",
        "valores_nulos=data2.isnull().sum()\n",
        "valores_nulos"
      ],
      "metadata": {
        "colab": {
          "base_uri": "https://localhost:8080/"
        },
        "id": "kem2pfvRYj79",
        "outputId": "6ff3addd-45b2-4982-a3ae-06927ed31219"
      },
      "execution_count": 22,
      "outputs": [
        {
          "output_type": "execute_result",
          "data": {
            "text/plain": [
              "indice_tiempo                          0\n",
              "ventas_precios_corrientes              0\n",
              "ventas_precios_constantes              0\n",
              "ventas_totales_canal_venta             0\n",
              "salon_ventas                           0\n",
              "canales_on_line                        0\n",
              "ventas_totales_medio_pago              0\n",
              "efectivo                               0\n",
              "tarjetas_debito                        0\n",
              "tarjetas_credito                       0\n",
              "otros_medios                           0\n",
              "ventas_totales_grupo_articulos         0\n",
              "subtotal_ventas_alimentos_bebidas      0\n",
              "bebidas                                0\n",
              "almacen                                0\n",
              "panaderia                              0\n",
              "lacteos                                1\n",
              "carnes                                 1\n",
              "verduleria_fruteria                    1\n",
              "alimentos_preparados_rotiseria         1\n",
              "articulos_limpieza_perfumeria          0\n",
              "indumentaria_calzado_textiles_hogar    2\n",
              "electronicos_articulos_hogar           3\n",
              "otros                                  4\n",
              "dtype: int64"
            ]
          },
          "metadata": {},
          "execution_count": 22
        }
      ]
    },
    {
      "cell_type": "code",
      "source": [
        "#Segundo metodo de sustitucion de valores nulos \n",
        "#Sustituir valores nulos con mediana\n",
        "data2[\"lacteos\"]=data2[\"lacteos\"].fillna(round(data2[\"lacteos\"].median(),1))"
      ],
      "metadata": {
        "id": "jBme1lYCY7KE"
      },
      "execution_count": 23,
      "outputs": []
    },
    {
      "cell_type": "code",
      "source": [
        "#Corroboramos valores nulos \n",
        "valores_nulos=data2.isnull().sum()\n",
        "valores_nulos"
      ],
      "metadata": {
        "colab": {
          "base_uri": "https://localhost:8080/"
        },
        "id": "3w9KvWN6ZJZW",
        "outputId": "50d17998-16c6-4c37-ac9b-48480cfe970d"
      },
      "execution_count": 24,
      "outputs": [
        {
          "output_type": "execute_result",
          "data": {
            "text/plain": [
              "indice_tiempo                          0\n",
              "ventas_precios_corrientes              0\n",
              "ventas_precios_constantes              0\n",
              "ventas_totales_canal_venta             0\n",
              "salon_ventas                           0\n",
              "canales_on_line                        0\n",
              "ventas_totales_medio_pago              0\n",
              "efectivo                               0\n",
              "tarjetas_debito                        0\n",
              "tarjetas_credito                       0\n",
              "otros_medios                           0\n",
              "ventas_totales_grupo_articulos         0\n",
              "subtotal_ventas_alimentos_bebidas      0\n",
              "bebidas                                0\n",
              "almacen                                0\n",
              "panaderia                              0\n",
              "lacteos                                0\n",
              "carnes                                 1\n",
              "verduleria_fruteria                    1\n",
              "alimentos_preparados_rotiseria         1\n",
              "articulos_limpieza_perfumeria          0\n",
              "indumentaria_calzado_textiles_hogar    2\n",
              "electronicos_articulos_hogar           3\n",
              "otros                                  4\n",
              "dtype: int64"
            ]
          },
          "metadata": {},
          "execution_count": 24
        }
      ]
    },
    {
      "cell_type": "code",
      "source": [
        "#Tercer metodo de sustitucion de valores nulos \n",
        "#Sustituir valores nulos por un valor numerico con concreto \n",
        "data2[\"carnes\"]= data2[\"carnes\"].fillna(10)"
      ],
      "metadata": {
        "id": "GsQanOGNZXcu"
      },
      "execution_count": 25,
      "outputs": []
    },
    {
      "cell_type": "code",
      "source": [
        "#Corroboramos valores nulos \n",
        "valores_nulos=data2.isnull().sum()\n",
        "valores_nulos"
      ],
      "metadata": {
        "colab": {
          "base_uri": "https://localhost:8080/"
        },
        "id": "WaL4OjBRZe-S",
        "outputId": "a937874d-015a-429e-977e-a0a04ac17444"
      },
      "execution_count": 26,
      "outputs": [
        {
          "output_type": "execute_result",
          "data": {
            "text/plain": [
              "indice_tiempo                          0\n",
              "ventas_precios_corrientes              0\n",
              "ventas_precios_constantes              0\n",
              "ventas_totales_canal_venta             0\n",
              "salon_ventas                           0\n",
              "canales_on_line                        0\n",
              "ventas_totales_medio_pago              0\n",
              "efectivo                               0\n",
              "tarjetas_debito                        0\n",
              "tarjetas_credito                       0\n",
              "otros_medios                           0\n",
              "ventas_totales_grupo_articulos         0\n",
              "subtotal_ventas_alimentos_bebidas      0\n",
              "bebidas                                0\n",
              "almacen                                0\n",
              "panaderia                              0\n",
              "lacteos                                0\n",
              "carnes                                 0\n",
              "verduleria_fruteria                    1\n",
              "alimentos_preparados_rotiseria         1\n",
              "articulos_limpieza_perfumeria          0\n",
              "indumentaria_calzado_textiles_hogar    2\n",
              "electronicos_articulos_hogar           3\n",
              "otros                                  4\n",
              "dtype: int64"
            ]
          },
          "metadata": {},
          "execution_count": 26
        }
      ]
    },
    {
      "cell_type": "code",
      "source": [
        "#Cuarto metodo de sustitucion de valores nulos \n",
        "#Sustituir valores nulos por un string en concreto \n",
        "data2[\"verduleria_fruteria\"]= data2[\"verduleria_fruteria\"].fillna(\"2030-06-19 00:00:00\")"
      ],
      "metadata": {
        "id": "-IuFOjS4Zn1p"
      },
      "execution_count": 27,
      "outputs": []
    },
    {
      "cell_type": "code",
      "source": [
        "#Corroboramos valores nulos \n",
        "valores_nulos=data2.isnull().sum()\n",
        "valores_nulos"
      ],
      "metadata": {
        "colab": {
          "base_uri": "https://localhost:8080/"
        },
        "id": "HQ97H7PfZ08x",
        "outputId": "61ba8ce4-122a-432a-d90c-eb357883a3cf"
      },
      "execution_count": 28,
      "outputs": [
        {
          "output_type": "execute_result",
          "data": {
            "text/plain": [
              "indice_tiempo                          0\n",
              "ventas_precios_corrientes              0\n",
              "ventas_precios_constantes              0\n",
              "ventas_totales_canal_venta             0\n",
              "salon_ventas                           0\n",
              "canales_on_line                        0\n",
              "ventas_totales_medio_pago              0\n",
              "efectivo                               0\n",
              "tarjetas_debito                        0\n",
              "tarjetas_credito                       0\n",
              "otros_medios                           0\n",
              "ventas_totales_grupo_articulos         0\n",
              "subtotal_ventas_alimentos_bebidas      0\n",
              "bebidas                                0\n",
              "almacen                                0\n",
              "panaderia                              0\n",
              "lacteos                                0\n",
              "carnes                                 0\n",
              "verduleria_fruteria                    0\n",
              "alimentos_preparados_rotiseria         1\n",
              "articulos_limpieza_perfumeria          0\n",
              "indumentaria_calzado_textiles_hogar    2\n",
              "electronicos_articulos_hogar           3\n",
              "otros                                  4\n",
              "dtype: int64"
            ]
          },
          "metadata": {},
          "execution_count": 28
        }
      ]
    },
    {
      "cell_type": "code",
      "source": [
        "#Quinto metodo de sustitucion de valores nulos \n",
        "#Sustituir valores nulos por valores no nulos hacia adelante \"forward fill\" (\"ffill\")\n",
        "#Filtro por columnas \n",
        "data2[\"alimentos_preparados_rotiseria\"]=data2[\"alimentos_preparados_rotiseria\"].fillna(method=\"ffill\")"
      ],
      "metadata": {
        "id": "vpYSWlUPZ7ly"
      },
      "execution_count": 29,
      "outputs": []
    },
    {
      "cell_type": "code",
      "source": [
        "#Corroboramos valores nulos \n",
        "valores_nulos=data2.isnull().sum()\n",
        "valores_nulos"
      ],
      "metadata": {
        "colab": {
          "base_uri": "https://localhost:8080/"
        },
        "id": "0LKrLWv8aYKg",
        "outputId": "55cdd3ad-c310-4689-ec3b-e67496e4bfeb"
      },
      "execution_count": 30,
      "outputs": [
        {
          "output_type": "execute_result",
          "data": {
            "text/plain": [
              "indice_tiempo                          0\n",
              "ventas_precios_corrientes              0\n",
              "ventas_precios_constantes              0\n",
              "ventas_totales_canal_venta             0\n",
              "salon_ventas                           0\n",
              "canales_on_line                        0\n",
              "ventas_totales_medio_pago              0\n",
              "efectivo                               0\n",
              "tarjetas_debito                        0\n",
              "tarjetas_credito                       0\n",
              "otros_medios                           0\n",
              "ventas_totales_grupo_articulos         0\n",
              "subtotal_ventas_alimentos_bebidas      0\n",
              "bebidas                                0\n",
              "almacen                                0\n",
              "panaderia                              0\n",
              "lacteos                                0\n",
              "carnes                                 0\n",
              "verduleria_fruteria                    0\n",
              "alimentos_preparados_rotiseria         0\n",
              "articulos_limpieza_perfumeria          0\n",
              "indumentaria_calzado_textiles_hogar    2\n",
              "electronicos_articulos_hogar           3\n",
              "otros                                  4\n",
              "dtype: int64"
            ]
          },
          "metadata": {},
          "execution_count": 30
        }
      ]
    },
    {
      "cell_type": "code",
      "source": [
        "#Sexto metodo de sustitucion de valores nulos \n",
        "#Sustituir valores nulos por valores no nulos hacia atras \"backward fill\" (\"bfill\")\n",
        "#Filtro por columnas \n",
        "data2[\"indumentaria_calzado_textiles_hogar\"]=data2[\"indumentaria_calzado_textiles_hogar\"].fillna(method=\"bfill\")"
      ],
      "metadata": {
        "id": "gGjjx4mvae9P"
      },
      "execution_count": 31,
      "outputs": []
    },
    {
      "cell_type": "code",
      "source": [
        "#Corroboramos valores nulos \n",
        "valores_nulos=data2.isnull().sum()\n",
        "valores_nulos"
      ],
      "metadata": {
        "colab": {
          "base_uri": "https://localhost:8080/"
        },
        "id": "jcjpVSwyalMe",
        "outputId": "4853fba1-852a-447b-eba5-365bc23f3ea1"
      },
      "execution_count": 32,
      "outputs": [
        {
          "output_type": "execute_result",
          "data": {
            "text/plain": [
              "indice_tiempo                          0\n",
              "ventas_precios_corrientes              0\n",
              "ventas_precios_constantes              0\n",
              "ventas_totales_canal_venta             0\n",
              "salon_ventas                           0\n",
              "canales_on_line                        0\n",
              "ventas_totales_medio_pago              0\n",
              "efectivo                               0\n",
              "tarjetas_debito                        0\n",
              "tarjetas_credito                       0\n",
              "otros_medios                           0\n",
              "ventas_totales_grupo_articulos         0\n",
              "subtotal_ventas_alimentos_bebidas      0\n",
              "bebidas                                0\n",
              "almacen                                0\n",
              "panaderia                              0\n",
              "lacteos                                0\n",
              "carnes                                 0\n",
              "verduleria_fruteria                    0\n",
              "alimentos_preparados_rotiseria         0\n",
              "articulos_limpieza_perfumeria          0\n",
              "indumentaria_calzado_textiles_hogar    0\n",
              "electronicos_articulos_hogar           3\n",
              "otros                                  4\n",
              "dtype: int64"
            ]
          },
          "metadata": {},
          "execution_count": 32
        }
      ]
    },
    {
      "cell_type": "code",
      "source": [
        "#Sustituir valores nulos por valores no nulos hacia atras \"backward fill\" (\"bfill\")\n",
        "#Filtro por columnas\n",
        "data2[\"electronicos_articulos_hogar\"]=data2[\"electronicos_articulos_hogar\"].fillna(method=\"bfill\")"
      ],
      "metadata": {
        "id": "T4O3hZhUaxRs"
      },
      "execution_count": 33,
      "outputs": []
    },
    {
      "cell_type": "code",
      "source": [
        "#Corroboramos valores nulos \n",
        "valores_nulos=data2.isnull().sum()\n",
        "valores_nulos"
      ],
      "metadata": {
        "colab": {
          "base_uri": "https://localhost:8080/"
        },
        "id": "cU4ibOK4a6Zv",
        "outputId": "1047b556-5663-4e55-a262-fbc87f007bd8"
      },
      "execution_count": 34,
      "outputs": [
        {
          "output_type": "execute_result",
          "data": {
            "text/plain": [
              "indice_tiempo                          0\n",
              "ventas_precios_corrientes              0\n",
              "ventas_precios_constantes              0\n",
              "ventas_totales_canal_venta             0\n",
              "salon_ventas                           0\n",
              "canales_on_line                        0\n",
              "ventas_totales_medio_pago              0\n",
              "efectivo                               0\n",
              "tarjetas_debito                        0\n",
              "tarjetas_credito                       0\n",
              "otros_medios                           0\n",
              "ventas_totales_grupo_articulos         0\n",
              "subtotal_ventas_alimentos_bebidas      0\n",
              "bebidas                                0\n",
              "almacen                                0\n",
              "panaderia                              0\n",
              "lacteos                                0\n",
              "carnes                                 0\n",
              "verduleria_fruteria                    0\n",
              "alimentos_preparados_rotiseria         0\n",
              "articulos_limpieza_perfumeria          0\n",
              "indumentaria_calzado_textiles_hogar    0\n",
              "electronicos_articulos_hogar           0\n",
              "otros                                  4\n",
              "dtype: int64"
            ]
          },
          "metadata": {},
          "execution_count": 34
        }
      ]
    },
    {
      "cell_type": "code",
      "source": [
        "#Sustituir valores nulos por valores no nulos hacia adelante \"forward fill\" (\"ffill\")\n",
        "#Filtro por columnas \n",
        "data2[\"otros\"]=data2[\"otros\"].fillna(method=\"ffill\")"
      ],
      "metadata": {
        "id": "ZDY-MkpLbA2n"
      },
      "execution_count": 35,
      "outputs": []
    },
    {
      "cell_type": "code",
      "source": [
        "#Corroboramos valores nulos \n",
        "valores_nulos=data2.isnull().sum()\n",
        "valores_nulos"
      ],
      "metadata": {
        "colab": {
          "base_uri": "https://localhost:8080/"
        },
        "id": "U3vYyWesbH0y",
        "outputId": "c9e68f55-f2ba-4838-b984-7e9ac6514e5d"
      },
      "execution_count": 36,
      "outputs": [
        {
          "output_type": "execute_result",
          "data": {
            "text/plain": [
              "indice_tiempo                          0\n",
              "ventas_precios_corrientes              0\n",
              "ventas_precios_constantes              0\n",
              "ventas_totales_canal_venta             0\n",
              "salon_ventas                           0\n",
              "canales_on_line                        0\n",
              "ventas_totales_medio_pago              0\n",
              "efectivo                               0\n",
              "tarjetas_debito                        0\n",
              "tarjetas_credito                       0\n",
              "otros_medios                           0\n",
              "ventas_totales_grupo_articulos         0\n",
              "subtotal_ventas_alimentos_bebidas      0\n",
              "bebidas                                0\n",
              "almacen                                0\n",
              "panaderia                              0\n",
              "lacteos                                0\n",
              "carnes                                 0\n",
              "verduleria_fruteria                    0\n",
              "alimentos_preparados_rotiseria         0\n",
              "articulos_limpieza_perfumeria          0\n",
              "indumentaria_calzado_textiles_hogar    0\n",
              "electronicos_articulos_hogar           0\n",
              "otros                                  0\n",
              "dtype: int64"
            ]
          },
          "metadata": {},
          "execution_count": 36
        }
      ]
    },
    {
      "cell_type": "code",
      "source": [
        "#Corroboramos valores nulos en todo el dataframe \n",
        "valores_nulos=data2.isnull().sum().sum()\n",
        "valores_nulos"
      ],
      "metadata": {
        "colab": {
          "base_uri": "https://localhost:8080/"
        },
        "id": "ywMWjkfpbN88",
        "outputId": "8229a98b-926a-4adc-b4e3-1304e0e8f9a6"
      },
      "execution_count": 37,
      "outputs": [
        {
          "output_type": "execute_result",
          "data": {
            "text/plain": [
              "0"
            ]
          },
          "metadata": {},
          "execution_count": 37
        }
      ]
    },
    {
      "cell_type": "markdown",
      "source": [
        "Método de eliminación de valores nulos "
      ],
      "metadata": {
        "id": "5SiEgDBAVtub"
      }
    },
    {
      "cell_type": "code",
      "source": [
        "#Identificar valores nulos por columna \n",
        "valores_mulos=data2.isnull().sum()\n",
        "valores_nulos"
      ],
      "metadata": {
        "colab": {
          "base_uri": "https://localhost:8080/"
        },
        "id": "b4AczuRkVyTc",
        "outputId": "4e043852-e008-416e-e4f8-c8ebaa7a166f"
      },
      "execution_count": 39,
      "outputs": [
        {
          "output_type": "execute_result",
          "data": {
            "text/plain": [
              "0"
            ]
          },
          "metadata": {},
          "execution_count": 39
        }
      ]
    },
    {
      "cell_type": "code",
      "source": [
        "#Realizamos una copia del dataframe \n",
        "data4=data2.copy()"
      ],
      "metadata": {
        "id": "dH9hwSsHWSyb"
      },
      "execution_count": 40,
      "outputs": []
    },
    {
      "cell_type": "code",
      "source": [
        "#Eliminamos filas con nulos \n",
        "data4= data2.dropna(0)\n",
        "data4"
      ],
      "metadata": {
        "colab": {
          "base_uri": "https://localhost:8080/",
          "height": 522
        },
        "id": "IMGohPnyWWFI",
        "outputId": "191b24e7-3c24-471f-e197-774255ed8bf9"
      },
      "execution_count": 41,
      "outputs": [
        {
          "output_type": "stream",
          "name": "stderr",
          "text": [
            "/usr/local/lib/python3.7/dist-packages/ipykernel_launcher.py:2: FutureWarning: In a future version of pandas all arguments of DataFrame.dropna will be keyword-only\n",
            "  \n"
          ]
        },
        {
          "output_type": "execute_result",
          "data": {
            "text/plain": [
              "   indice_tiempo  ventas_precios_corrientes  ventas_precios_constantes  \\\n",
              "0     01/01/2017                    27858.9                    27477.3   \n",
              "1     01/02/2017                    25994.2                    25223.4   \n",
              "2     01/03/2017                    27780.0                    26334.3   \n",
              "3     01/04/2017                    29134.3                    27045.9   \n",
              "4     01/05/2017                    27969.0                    25631.9   \n",
              "..           ...                        ...                        ...   \n",
              "60    01/01/2022                   154517.1                    45463.4   \n",
              "61    01/02/2022                   152202.6                    23802.1   \n",
              "62    01/03/2022                       16.5                    24612.4   \n",
              "63    01/04/2022                   177148.1                    24140.5   \n",
              "64    01/05/2022                   179639.2                    23234.2   \n",
              "\n",
              "    ventas_totales_canal_venta  salon_ventas  canales_on_line  \\\n",
              "0                 2.785887e+07  2.759173e+07     2.671420e+05   \n",
              "1                 2.599420e+07  2.574918e+07     2.450208e+05   \n",
              "2                 2.778001e+07  2.747223e+07     3.077778e+05   \n",
              "3                 2.913427e+07  2.882748e+07     3.067927e+05   \n",
              "4                 2.796900e+07  2.756931e+07     3.996933e+05   \n",
              "..                         ...           ...              ...   \n",
              "60                1.545171e+08  1.496976e+08     4.819480e+06   \n",
              "61                1.522026e+08  1.484065e+08     3.796044e+06   \n",
              "62                1.689825e+08  1.643211e+08     4.661350e+05   \n",
              "63                1.771481e+08  1.730038e+08     4.144284e+06   \n",
              "64                1.796392e+08  1.753585e+08     4.280751e+06   \n",
              "\n",
              "    ventas_totales_medio_pago      efectivo  tarjetas_debito  \\\n",
              "0                2.785887e+07  1.023010e+07     6.864575e+06   \n",
              "1                2.599420e+07  9.719067e+06     6.438494e+06   \n",
              "2                2.778001e+07  1.024444e+07     6.908523e+06   \n",
              "3                2.913427e+07  1.031263e+07     7.454252e+06   \n",
              "4                2.796900e+07  1.014761e+07     6.735747e+06   \n",
              "..                        ...           ...              ...   \n",
              "60               1.545171e+08  4.696260e+07     4.605365e+07   \n",
              "61               1.522026e+08  4.629096e+07     4.528358e+07   \n",
              "62               1.689825e+08  5.126208e+07     4.736436e+07   \n",
              "63               1.771481e+08  5.319000e+07     5.006397e+07   \n",
              "64               1.796392e+08  5.273811e+07     4.988679e+07   \n",
              "\n",
              "    tarjetas_credito  ...       almacen     panaderia       lacteos  \\\n",
              "0       9.047205e+06  ...  6.705475e+06  9.459063e+05  2.880656e+06   \n",
              "1       8.309150e+06  ...  6.576625e+06  9.256186e+05  2.855640e+06   \n",
              "2       8.845010e+06  ...  7.437264e+06  1.016148e+06  3.188259e+06   \n",
              "3       9.458167e+06  ...  8.211244e+06  1.132396e+06  3.257140e+06   \n",
              "4       9.220930e+06  ...  7.651058e+06  1.033082e+06  3.232636e+06   \n",
              "..               ...  ...           ...           ...           ...   \n",
              "60      5.404833e+07  ...  3.750517e+07  4.860318e+06  1.610477e+07   \n",
              "61      5.370589e+07  ...  3.820979e+07  5.045920e+06  1.613982e+07   \n",
              "62      1.000000e+01  ...  4.541886e+07  5.922820e+06  1.841916e+07   \n",
              "63      6.535759e+07  ...  4.999168e+07  6.746167e+06  1.930946e+07   \n",
              "64      6.807009e+07  ...  5.015035e+07  6.667330e+06  2.012112e+07   \n",
              "\n",
              "          carnes  verduleria_fruteria  alimentos_preparados_rotiseria  \\\n",
              "0   2.606193e+06          1050313.638                    3.407774e+05   \n",
              "1   2.600084e+06          1026166.544                    3.282887e+05   \n",
              "2   2.824977e+06          1075525.842                    3.533352e+05   \n",
              "3   3.006159e+06          1037213.162                    3.596945e+05   \n",
              "4   2.799142e+06          982651.1606                    3.365680e+05   \n",
              "..           ...                  ...                             ...   \n",
              "60  1.740849e+07          6138441.197                    1.401929e+06   \n",
              "61  1.826074e+07          6436027.691                    1.370640e+06   \n",
              "62  2.082760e+07          6886240.029                    1.589119e+06   \n",
              "63  2.287784e+07          6510665.781                    1.719459e+06   \n",
              "64  2.284153e+07           6314109.47                    1.779483e+06   \n",
              "\n",
              "    articulos_limpieza_perfumeria  indumentaria_calzado_textiles_hogar  \\\n",
              "0                    4.397544e+06                         7.723718e+05   \n",
              "1                    4.053284e+06                         6.722905e+05   \n",
              "2                    4.354198e+06                         6.676967e+05   \n",
              "3                    4.355707e+06                         8.389482e+05   \n",
              "4                    4.206102e+06                         9.158951e+05   \n",
              "..                            ...                                  ...   \n",
              "60                   2.133021e+07                         3.782646e+06   \n",
              "61                   2.030545e+07                         3.912852e+06   \n",
              "62                   2.294201e+07                         3.912852e+06   \n",
              "63                   2.313127e+07                         4.228054e+06   \n",
              "64                   2.357864e+07                         5.213153e+06   \n",
              "\n",
              "   electronicos_articulos_hogar         otros  \n",
              "0                  1.838507e+06  2.806660e+06  \n",
              "1                  1.257662e+06  2.354085e+06  \n",
              "2                  1.305675e+06  2.266189e+06  \n",
              "3                  1.535726e+06  2.146756e+06  \n",
              "4                  1.824462e+06  2.117971e+06  \n",
              "..                          ...           ...  \n",
              "60                 1.218755e+07  1.343307e+07  \n",
              "61                 9.189746e+06  1.330139e+07  \n",
              "62                 1.089879e+07  1.330139e+07  \n",
              "63                 1.203960e+07  1.191048e+07  \n",
              "64                 1.203960e+07  1.234998e+07  \n",
              "\n",
              "[65 rows x 24 columns]"
            ],
            "text/html": [
              "\n",
              "  <div id=\"df-2062789d-6f10-4ead-9607-d9c1bb1e4eba\">\n",
              "    <div class=\"colab-df-container\">\n",
              "      <div>\n",
              "<style scoped>\n",
              "    .dataframe tbody tr th:only-of-type {\n",
              "        vertical-align: middle;\n",
              "    }\n",
              "\n",
              "    .dataframe tbody tr th {\n",
              "        vertical-align: top;\n",
              "    }\n",
              "\n",
              "    .dataframe thead th {\n",
              "        text-align: right;\n",
              "    }\n",
              "</style>\n",
              "<table border=\"1\" class=\"dataframe\">\n",
              "  <thead>\n",
              "    <tr style=\"text-align: right;\">\n",
              "      <th></th>\n",
              "      <th>indice_tiempo</th>\n",
              "      <th>ventas_precios_corrientes</th>\n",
              "      <th>ventas_precios_constantes</th>\n",
              "      <th>ventas_totales_canal_venta</th>\n",
              "      <th>salon_ventas</th>\n",
              "      <th>canales_on_line</th>\n",
              "      <th>ventas_totales_medio_pago</th>\n",
              "      <th>efectivo</th>\n",
              "      <th>tarjetas_debito</th>\n",
              "      <th>tarjetas_credito</th>\n",
              "      <th>...</th>\n",
              "      <th>almacen</th>\n",
              "      <th>panaderia</th>\n",
              "      <th>lacteos</th>\n",
              "      <th>carnes</th>\n",
              "      <th>verduleria_fruteria</th>\n",
              "      <th>alimentos_preparados_rotiseria</th>\n",
              "      <th>articulos_limpieza_perfumeria</th>\n",
              "      <th>indumentaria_calzado_textiles_hogar</th>\n",
              "      <th>electronicos_articulos_hogar</th>\n",
              "      <th>otros</th>\n",
              "    </tr>\n",
              "  </thead>\n",
              "  <tbody>\n",
              "    <tr>\n",
              "      <th>0</th>\n",
              "      <td>01/01/2017</td>\n",
              "      <td>27858.9</td>\n",
              "      <td>27477.3</td>\n",
              "      <td>2.785887e+07</td>\n",
              "      <td>2.759173e+07</td>\n",
              "      <td>2.671420e+05</td>\n",
              "      <td>2.785887e+07</td>\n",
              "      <td>1.023010e+07</td>\n",
              "      <td>6.864575e+06</td>\n",
              "      <td>9.047205e+06</td>\n",
              "      <td>...</td>\n",
              "      <td>6.705475e+06</td>\n",
              "      <td>9.459063e+05</td>\n",
              "      <td>2.880656e+06</td>\n",
              "      <td>2.606193e+06</td>\n",
              "      <td>1050313.638</td>\n",
              "      <td>3.407774e+05</td>\n",
              "      <td>4.397544e+06</td>\n",
              "      <td>7.723718e+05</td>\n",
              "      <td>1.838507e+06</td>\n",
              "      <td>2.806660e+06</td>\n",
              "    </tr>\n",
              "    <tr>\n",
              "      <th>1</th>\n",
              "      <td>01/02/2017</td>\n",
              "      <td>25994.2</td>\n",
              "      <td>25223.4</td>\n",
              "      <td>2.599420e+07</td>\n",
              "      <td>2.574918e+07</td>\n",
              "      <td>2.450208e+05</td>\n",
              "      <td>2.599420e+07</td>\n",
              "      <td>9.719067e+06</td>\n",
              "      <td>6.438494e+06</td>\n",
              "      <td>8.309150e+06</td>\n",
              "      <td>...</td>\n",
              "      <td>6.576625e+06</td>\n",
              "      <td>9.256186e+05</td>\n",
              "      <td>2.855640e+06</td>\n",
              "      <td>2.600084e+06</td>\n",
              "      <td>1026166.544</td>\n",
              "      <td>3.282887e+05</td>\n",
              "      <td>4.053284e+06</td>\n",
              "      <td>6.722905e+05</td>\n",
              "      <td>1.257662e+06</td>\n",
              "      <td>2.354085e+06</td>\n",
              "    </tr>\n",
              "    <tr>\n",
              "      <th>2</th>\n",
              "      <td>01/03/2017</td>\n",
              "      <td>27780.0</td>\n",
              "      <td>26334.3</td>\n",
              "      <td>2.778001e+07</td>\n",
              "      <td>2.747223e+07</td>\n",
              "      <td>3.077778e+05</td>\n",
              "      <td>2.778001e+07</td>\n",
              "      <td>1.024444e+07</td>\n",
              "      <td>6.908523e+06</td>\n",
              "      <td>8.845010e+06</td>\n",
              "      <td>...</td>\n",
              "      <td>7.437264e+06</td>\n",
              "      <td>1.016148e+06</td>\n",
              "      <td>3.188259e+06</td>\n",
              "      <td>2.824977e+06</td>\n",
              "      <td>1075525.842</td>\n",
              "      <td>3.533352e+05</td>\n",
              "      <td>4.354198e+06</td>\n",
              "      <td>6.676967e+05</td>\n",
              "      <td>1.305675e+06</td>\n",
              "      <td>2.266189e+06</td>\n",
              "    </tr>\n",
              "    <tr>\n",
              "      <th>3</th>\n",
              "      <td>01/04/2017</td>\n",
              "      <td>29134.3</td>\n",
              "      <td>27045.9</td>\n",
              "      <td>2.913427e+07</td>\n",
              "      <td>2.882748e+07</td>\n",
              "      <td>3.067927e+05</td>\n",
              "      <td>2.913427e+07</td>\n",
              "      <td>1.031263e+07</td>\n",
              "      <td>7.454252e+06</td>\n",
              "      <td>9.458167e+06</td>\n",
              "      <td>...</td>\n",
              "      <td>8.211244e+06</td>\n",
              "      <td>1.132396e+06</td>\n",
              "      <td>3.257140e+06</td>\n",
              "      <td>3.006159e+06</td>\n",
              "      <td>1037213.162</td>\n",
              "      <td>3.596945e+05</td>\n",
              "      <td>4.355707e+06</td>\n",
              "      <td>8.389482e+05</td>\n",
              "      <td>1.535726e+06</td>\n",
              "      <td>2.146756e+06</td>\n",
              "    </tr>\n",
              "    <tr>\n",
              "      <th>4</th>\n",
              "      <td>01/05/2017</td>\n",
              "      <td>27969.0</td>\n",
              "      <td>25631.9</td>\n",
              "      <td>2.796900e+07</td>\n",
              "      <td>2.756931e+07</td>\n",
              "      <td>3.996933e+05</td>\n",
              "      <td>2.796900e+07</td>\n",
              "      <td>1.014761e+07</td>\n",
              "      <td>6.735747e+06</td>\n",
              "      <td>9.220930e+06</td>\n",
              "      <td>...</td>\n",
              "      <td>7.651058e+06</td>\n",
              "      <td>1.033082e+06</td>\n",
              "      <td>3.232636e+06</td>\n",
              "      <td>2.799142e+06</td>\n",
              "      <td>982651.1606</td>\n",
              "      <td>3.365680e+05</td>\n",
              "      <td>4.206102e+06</td>\n",
              "      <td>9.158951e+05</td>\n",
              "      <td>1.824462e+06</td>\n",
              "      <td>2.117971e+06</td>\n",
              "    </tr>\n",
              "    <tr>\n",
              "      <th>...</th>\n",
              "      <td>...</td>\n",
              "      <td>...</td>\n",
              "      <td>...</td>\n",
              "      <td>...</td>\n",
              "      <td>...</td>\n",
              "      <td>...</td>\n",
              "      <td>...</td>\n",
              "      <td>...</td>\n",
              "      <td>...</td>\n",
              "      <td>...</td>\n",
              "      <td>...</td>\n",
              "      <td>...</td>\n",
              "      <td>...</td>\n",
              "      <td>...</td>\n",
              "      <td>...</td>\n",
              "      <td>...</td>\n",
              "      <td>...</td>\n",
              "      <td>...</td>\n",
              "      <td>...</td>\n",
              "      <td>...</td>\n",
              "      <td>...</td>\n",
              "    </tr>\n",
              "    <tr>\n",
              "      <th>60</th>\n",
              "      <td>01/01/2022</td>\n",
              "      <td>154517.1</td>\n",
              "      <td>45463.4</td>\n",
              "      <td>1.545171e+08</td>\n",
              "      <td>1.496976e+08</td>\n",
              "      <td>4.819480e+06</td>\n",
              "      <td>1.545171e+08</td>\n",
              "      <td>4.696260e+07</td>\n",
              "      <td>4.605365e+07</td>\n",
              "      <td>5.404833e+07</td>\n",
              "      <td>...</td>\n",
              "      <td>3.750517e+07</td>\n",
              "      <td>4.860318e+06</td>\n",
              "      <td>1.610477e+07</td>\n",
              "      <td>1.740849e+07</td>\n",
              "      <td>6138441.197</td>\n",
              "      <td>1.401929e+06</td>\n",
              "      <td>2.133021e+07</td>\n",
              "      <td>3.782646e+06</td>\n",
              "      <td>1.218755e+07</td>\n",
              "      <td>1.343307e+07</td>\n",
              "    </tr>\n",
              "    <tr>\n",
              "      <th>61</th>\n",
              "      <td>01/02/2022</td>\n",
              "      <td>152202.6</td>\n",
              "      <td>23802.1</td>\n",
              "      <td>1.522026e+08</td>\n",
              "      <td>1.484065e+08</td>\n",
              "      <td>3.796044e+06</td>\n",
              "      <td>1.522026e+08</td>\n",
              "      <td>4.629096e+07</td>\n",
              "      <td>4.528358e+07</td>\n",
              "      <td>5.370589e+07</td>\n",
              "      <td>...</td>\n",
              "      <td>3.820979e+07</td>\n",
              "      <td>5.045920e+06</td>\n",
              "      <td>1.613982e+07</td>\n",
              "      <td>1.826074e+07</td>\n",
              "      <td>6436027.691</td>\n",
              "      <td>1.370640e+06</td>\n",
              "      <td>2.030545e+07</td>\n",
              "      <td>3.912852e+06</td>\n",
              "      <td>9.189746e+06</td>\n",
              "      <td>1.330139e+07</td>\n",
              "    </tr>\n",
              "    <tr>\n",
              "      <th>62</th>\n",
              "      <td>01/03/2022</td>\n",
              "      <td>16.5</td>\n",
              "      <td>24612.4</td>\n",
              "      <td>1.689825e+08</td>\n",
              "      <td>1.643211e+08</td>\n",
              "      <td>4.661350e+05</td>\n",
              "      <td>1.689825e+08</td>\n",
              "      <td>5.126208e+07</td>\n",
              "      <td>4.736436e+07</td>\n",
              "      <td>1.000000e+01</td>\n",
              "      <td>...</td>\n",
              "      <td>4.541886e+07</td>\n",
              "      <td>5.922820e+06</td>\n",
              "      <td>1.841916e+07</td>\n",
              "      <td>2.082760e+07</td>\n",
              "      <td>6886240.029</td>\n",
              "      <td>1.589119e+06</td>\n",
              "      <td>2.294201e+07</td>\n",
              "      <td>3.912852e+06</td>\n",
              "      <td>1.089879e+07</td>\n",
              "      <td>1.330139e+07</td>\n",
              "    </tr>\n",
              "    <tr>\n",
              "      <th>63</th>\n",
              "      <td>01/04/2022</td>\n",
              "      <td>177148.1</td>\n",
              "      <td>24140.5</td>\n",
              "      <td>1.771481e+08</td>\n",
              "      <td>1.730038e+08</td>\n",
              "      <td>4.144284e+06</td>\n",
              "      <td>1.771481e+08</td>\n",
              "      <td>5.319000e+07</td>\n",
              "      <td>5.006397e+07</td>\n",
              "      <td>6.535759e+07</td>\n",
              "      <td>...</td>\n",
              "      <td>4.999168e+07</td>\n",
              "      <td>6.746167e+06</td>\n",
              "      <td>1.930946e+07</td>\n",
              "      <td>2.287784e+07</td>\n",
              "      <td>6510665.781</td>\n",
              "      <td>1.719459e+06</td>\n",
              "      <td>2.313127e+07</td>\n",
              "      <td>4.228054e+06</td>\n",
              "      <td>1.203960e+07</td>\n",
              "      <td>1.191048e+07</td>\n",
              "    </tr>\n",
              "    <tr>\n",
              "      <th>64</th>\n",
              "      <td>01/05/2022</td>\n",
              "      <td>179639.2</td>\n",
              "      <td>23234.2</td>\n",
              "      <td>1.796392e+08</td>\n",
              "      <td>1.753585e+08</td>\n",
              "      <td>4.280751e+06</td>\n",
              "      <td>1.796392e+08</td>\n",
              "      <td>5.273811e+07</td>\n",
              "      <td>4.988679e+07</td>\n",
              "      <td>6.807009e+07</td>\n",
              "      <td>...</td>\n",
              "      <td>5.015035e+07</td>\n",
              "      <td>6.667330e+06</td>\n",
              "      <td>2.012112e+07</td>\n",
              "      <td>2.284153e+07</td>\n",
              "      <td>6314109.47</td>\n",
              "      <td>1.779483e+06</td>\n",
              "      <td>2.357864e+07</td>\n",
              "      <td>5.213153e+06</td>\n",
              "      <td>1.203960e+07</td>\n",
              "      <td>1.234998e+07</td>\n",
              "    </tr>\n",
              "  </tbody>\n",
              "</table>\n",
              "<p>65 rows × 24 columns</p>\n",
              "</div>\n",
              "      <button class=\"colab-df-convert\" onclick=\"convertToInteractive('df-2062789d-6f10-4ead-9607-d9c1bb1e4eba')\"\n",
              "              title=\"Convert this dataframe to an interactive table.\"\n",
              "              style=\"display:none;\">\n",
              "        \n",
              "  <svg xmlns=\"http://www.w3.org/2000/svg\" height=\"24px\"viewBox=\"0 0 24 24\"\n",
              "       width=\"24px\">\n",
              "    <path d=\"M0 0h24v24H0V0z\" fill=\"none\"/>\n",
              "    <path d=\"M18.56 5.44l.94 2.06.94-2.06 2.06-.94-2.06-.94-.94-2.06-.94 2.06-2.06.94zm-11 1L8.5 8.5l.94-2.06 2.06-.94-2.06-.94L8.5 2.5l-.94 2.06-2.06.94zm10 10l.94 2.06.94-2.06 2.06-.94-2.06-.94-.94-2.06-.94 2.06-2.06.94z\"/><path d=\"M17.41 7.96l-1.37-1.37c-.4-.4-.92-.59-1.43-.59-.52 0-1.04.2-1.43.59L10.3 9.45l-7.72 7.72c-.78.78-.78 2.05 0 2.83L4 21.41c.39.39.9.59 1.41.59.51 0 1.02-.2 1.41-.59l7.78-7.78 2.81-2.81c.8-.78.8-2.07 0-2.86zM5.41 20L4 18.59l7.72-7.72 1.47 1.35L5.41 20z\"/>\n",
              "  </svg>\n",
              "      </button>\n",
              "      \n",
              "  <style>\n",
              "    .colab-df-container {\n",
              "      display:flex;\n",
              "      flex-wrap:wrap;\n",
              "      gap: 12px;\n",
              "    }\n",
              "\n",
              "    .colab-df-convert {\n",
              "      background-color: #E8F0FE;\n",
              "      border: none;\n",
              "      border-radius: 50%;\n",
              "      cursor: pointer;\n",
              "      display: none;\n",
              "      fill: #1967D2;\n",
              "      height: 32px;\n",
              "      padding: 0 0 0 0;\n",
              "      width: 32px;\n",
              "    }\n",
              "\n",
              "    .colab-df-convert:hover {\n",
              "      background-color: #E2EBFA;\n",
              "      box-shadow: 0px 1px 2px rgba(60, 64, 67, 0.3), 0px 1px 3px 1px rgba(60, 64, 67, 0.15);\n",
              "      fill: #174EA6;\n",
              "    }\n",
              "\n",
              "    [theme=dark] .colab-df-convert {\n",
              "      background-color: #3B4455;\n",
              "      fill: #D2E3FC;\n",
              "    }\n",
              "\n",
              "    [theme=dark] .colab-df-convert:hover {\n",
              "      background-color: #434B5C;\n",
              "      box-shadow: 0px 1px 3px 1px rgba(0, 0, 0, 0.15);\n",
              "      filter: drop-shadow(0px 1px 2px rgba(0, 0, 0, 0.3));\n",
              "      fill: #FFFFFF;\n",
              "    }\n",
              "  </style>\n",
              "\n",
              "      <script>\n",
              "        const buttonEl =\n",
              "          document.querySelector('#df-2062789d-6f10-4ead-9607-d9c1bb1e4eba button.colab-df-convert');\n",
              "        buttonEl.style.display =\n",
              "          google.colab.kernel.accessAllowed ? 'block' : 'none';\n",
              "\n",
              "        async function convertToInteractive(key) {\n",
              "          const element = document.querySelector('#df-2062789d-6f10-4ead-9607-d9c1bb1e4eba');\n",
              "          const dataTable =\n",
              "            await google.colab.kernel.invokeFunction('convertToInteractive',\n",
              "                                                     [key], {});\n",
              "          if (!dataTable) return;\n",
              "\n",
              "          const docLinkHtml = 'Like what you see? Visit the ' +\n",
              "            '<a target=\"_blank\" href=https://colab.research.google.com/notebooks/data_table.ipynb>data table notebook</a>'\n",
              "            + ' to learn more about interactive tables.';\n",
              "          element.innerHTML = '';\n",
              "          dataTable['output_type'] = 'display_data';\n",
              "          await google.colab.output.renderOutput(dataTable, element);\n",
              "          const docLink = document.createElement('div');\n",
              "          docLink.innerHTML = docLinkHtml;\n",
              "          element.appendChild(docLink);\n",
              "        }\n",
              "      </script>\n",
              "    </div>\n",
              "  </div>\n",
              "  "
            ]
          },
          "metadata": {},
          "execution_count": 41
        }
      ]
    },
    {
      "cell_type": "code",
      "source": [
        "#Identificar valores nulos por columna \n",
        "valores_nulos=data4.isnull().sum()\n",
        "valores_nulos"
      ],
      "metadata": {
        "colab": {
          "base_uri": "https://localhost:8080/"
        },
        "id": "c3fwKwG9WgrA",
        "outputId": "74b79e78-591b-40c8-e1c1-1dbb651afba1"
      },
      "execution_count": 42,
      "outputs": [
        {
          "output_type": "execute_result",
          "data": {
            "text/plain": [
              "indice_tiempo                          0\n",
              "ventas_precios_corrientes              0\n",
              "ventas_precios_constantes              0\n",
              "ventas_totales_canal_venta             0\n",
              "salon_ventas                           0\n",
              "canales_on_line                        0\n",
              "ventas_totales_medio_pago              0\n",
              "efectivo                               0\n",
              "tarjetas_debito                        0\n",
              "tarjetas_credito                       0\n",
              "otros_medios                           0\n",
              "ventas_totales_grupo_articulos         0\n",
              "subtotal_ventas_alimentos_bebidas      0\n",
              "bebidas                                0\n",
              "almacen                                0\n",
              "panaderia                              0\n",
              "lacteos                                0\n",
              "carnes                                 0\n",
              "verduleria_fruteria                    0\n",
              "alimentos_preparados_rotiseria         0\n",
              "articulos_limpieza_perfumeria          0\n",
              "indumentaria_calzado_textiles_hogar    0\n",
              "electronicos_articulos_hogar           0\n",
              "otros                                  0\n",
              "dtype: int64"
            ]
          },
          "metadata": {},
          "execution_count": 42
        }
      ]
    },
    {
      "cell_type": "code",
      "source": [
        "#Convertir DataFrame a CSV \n",
        "data2.to_csv(\"Ventas_totales_sin_nulos.csv\")"
      ],
      "metadata": {
        "id": "b2Cdirmxc-xg"
      },
      "execution_count": 38,
      "outputs": []
    },
    {
      "cell_type": "code",
      "source": [
        "#Descargar archivo filtrado en csv \n",
        "from google.colab import files \n",
        "\n",
        "files.download(\"Ventas_totales_sin_nulos.csv\")"
      ],
      "metadata": {
        "colab": {
          "base_uri": "https://localhost:8080/",
          "height": 17
        },
        "id": "5v-XAeqDe_-q",
        "outputId": "b14edf23-3269-4fa7-f2f6-1facb6ebe32d"
      },
      "execution_count": 44,
      "outputs": [
        {
          "output_type": "display_data",
          "data": {
            "text/plain": [
              "<IPython.core.display.Javascript object>"
            ],
            "application/javascript": [
              "\n",
              "    async function download(id, filename, size) {\n",
              "      if (!google.colab.kernel.accessAllowed) {\n",
              "        return;\n",
              "      }\n",
              "      const div = document.createElement('div');\n",
              "      const label = document.createElement('label');\n",
              "      label.textContent = `Downloading \"${filename}\": `;\n",
              "      div.appendChild(label);\n",
              "      const progress = document.createElement('progress');\n",
              "      progress.max = size;\n",
              "      div.appendChild(progress);\n",
              "      document.body.appendChild(div);\n",
              "\n",
              "      const buffers = [];\n",
              "      let downloaded = 0;\n",
              "\n",
              "      const channel = await google.colab.kernel.comms.open(id);\n",
              "      // Send a message to notify the kernel that we're ready.\n",
              "      channel.send({})\n",
              "\n",
              "      for await (const message of channel.messages) {\n",
              "        // Send a message to notify the kernel that we're ready.\n",
              "        channel.send({})\n",
              "        if (message.buffers) {\n",
              "          for (const buffer of message.buffers) {\n",
              "            buffers.push(buffer);\n",
              "            downloaded += buffer.byteLength;\n",
              "            progress.value = downloaded;\n",
              "          }\n",
              "        }\n",
              "      }\n",
              "      const blob = new Blob(buffers, {type: 'application/binary'});\n",
              "      const a = document.createElement('a');\n",
              "      a.href = window.URL.createObjectURL(blob);\n",
              "      a.download = filename;\n",
              "      div.appendChild(a);\n",
              "      a.click();\n",
              "      div.remove();\n",
              "    }\n",
              "  "
            ]
          },
          "metadata": {}
        },
        {
          "output_type": "display_data",
          "data": {
            "text/plain": [
              "<IPython.core.display.Javascript object>"
            ],
            "application/javascript": [
              "download(\"download_86a20301-cf14-40d5-8021-30eb45990984\", \"Ventas_totales_sin_nulos.csv\", 18590)"
            ]
          },
          "metadata": {}
        }
      ]
    }
  ]
}